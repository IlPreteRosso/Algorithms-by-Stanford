{
 "cells": [
  {
   "cell_type": "code",
   "execution_count": 6,
   "metadata": {},
   "outputs": [],
   "source": [
    "# External sort cuz seleting the midpoint \n",
    "# doesn't follow the nature of the arry to be sorted\n",
    "# i.e. Sort after split\n",
    "def mergeSort(arr):\n",
    "    if (len(arr) <= 1):\n",
    "        return(arr)\n",
    "    mid = len(arr)//2\n",
    "    \n",
    "    L = mergeSort(arr[:mid])\n",
    "    R = mergeSort(arr[mid:])\n",
    "    \n",
    "    i = j = k = 0\n",
    "    while ((i < mid) & (j < len(R))):\n",
    "        if L[i] < R[j]:\n",
    "            arr[k] = L[i]\n",
    "            i += 1\n",
    "        else:\n",
    "            arr[k] = R[j]\n",
    "            j += 1\n",
    "        k += 1\n",
    "        \n",
    "    while (i < mid):\n",
    "        arr[k] = L[i]\n",
    "        i += 1\n",
    "        k += 1\n",
    "    while (j < len(R)):\n",
    "        arr[k] = R[j]\n",
    "        j += 1\n",
    "        k += 1\n",
    "        \n",
    "    return(arr)\n",
    "    "
   ]
  }
 ],
 "metadata": {
  "interpreter": {
   "hash": "949510482b8eeb0db0de64008f8e13a21a90dd06afd7a8e21dd837eed22f74f3"
  },
  "kernelspec": {
   "display_name": "Python 3.8.8 64-bit ('base': conda)",
   "language": "python",
   "name": "python3"
  },
  "language_info": {
   "codemirror_mode": {
    "name": "ipython",
    "version": 3
   },
   "file_extension": ".py",
   "mimetype": "text/x-python",
   "name": "python",
   "nbconvert_exporter": "python",
   "pygments_lexer": "ipython3",
   "version": "3.8.8"
  },
  "orig_nbformat": 4
 },
 "nbformat": 4,
 "nbformat_minor": 2
}
