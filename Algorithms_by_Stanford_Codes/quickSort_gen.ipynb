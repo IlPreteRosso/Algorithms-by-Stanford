{
 "cells": [
  {
   "cell_type": "code",
   "execution_count": 7,
   "metadata": {},
   "outputs": [],
   "source": [
    "import numpy as np"
   ]
  },
  {
   "cell_type": "code",
   "execution_count": 85,
   "metadata": {},
   "outputs": [],
   "source": [
    "def quickSort_gen(arr):\n",
    "    if (len(arr) <= 1):\n",
    "        return(arr)\n",
    "    \n",
    "    piv_static = np.random.randint(0, len(arr))\n",
    "    piv = piv_static\n",
    "    \n",
    "    for curr in range(piv_static, -1, -1):\n",
    "        if (arr[curr] > arr[piv]):\n",
    "            arr[curr], arr[piv-1] = arr[piv-1], arr[curr]\n",
    "            arr[piv], arr[piv-1] = arr[piv-1], arr[piv]\n",
    "            piv -= 1\n",
    "    \n",
    "    for curr in range(piv_static + 1, len(arr)):\n",
    "        if (arr[curr] < arr[piv]):\n",
    "            arr[curr], arr[piv+1] = arr[piv+1], arr[curr]\n",
    "            arr[piv], arr[piv+1] = arr[piv+1], arr[piv]\n",
    "            piv += 1\n",
    "\n",
    "    piv_dul = piv + 1\n",
    "    for i in range(piv+1, len(arr)):\n",
    "        if arr[i] != arr[piv]:\n",
    "            piv_dul = i\n",
    "            break\n",
    "\n",
    "    return(quickSort_gen(arr[0:piv]) + arr[piv:piv_dul] + quickSort_gen(arr[piv_dul:]))"
   ]
  },
  {
   "cell_type": "code",
   "execution_count": 105,
   "metadata": {},
   "outputs": [
    {
     "data": {
      "text/plain": [
       "[0, 0, 1, 5, 5, 5, 6, 6, 7, 9]"
      ]
     },
     "execution_count": 105,
     "metadata": {},
     "output_type": "execute_result"
    }
   ],
   "source": [
    "quickSort_gen(np.random.randint(0, 10, 10).tolist())"
   ]
  }
 ],
 "metadata": {
  "interpreter": {
   "hash": "949510482b8eeb0db0de64008f8e13a21a90dd06afd7a8e21dd837eed22f74f3"
  },
  "kernelspec": {
   "display_name": "Python 3.8.8 64-bit ('base': conda)",
   "language": "python",
   "name": "python3"
  },
  "language_info": {
   "codemirror_mode": {
    "name": "ipython",
    "version": 3
   },
   "file_extension": ".py",
   "mimetype": "text/x-python",
   "name": "python",
   "nbconvert_exporter": "python",
   "pygments_lexer": "ipython3",
   "version": "3.8.8"
  },
  "orig_nbformat": 4
 },
 "nbformat": 4,
 "nbformat_minor": 2
}
