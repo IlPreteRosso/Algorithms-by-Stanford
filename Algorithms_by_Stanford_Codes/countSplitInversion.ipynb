{
 "cells": [
  {
   "cell_type": "code",
   "execution_count": 18,
   "metadata": {},
   "outputs": [],
   "source": [
    "def mergeSortWithTrace(arr, inversions): \n",
    "    if (len(arr) <= 1):\n",
    "        return(arr)\n",
    "    mid = len(arr)//2\n",
    "    \n",
    "    L = mergeSortWithTrace(arr[:mid], inversions)\n",
    "    R = mergeSortWithTrace(arr[mid:], inversions)\n",
    "    \n",
    "    i = j = k = 0\n",
    "    while ((i < mid) & (j < len(R))):\n",
    "        if L[i] < R[j]:\n",
    "            arr[k] = L[i]\n",
    "            i += 1\n",
    "        else:\n",
    "            arr[k] = R[j]\n",
    "            inversions.append((L[i], R[j]))\n",
    "            j += 1\n",
    "        k += 1\n",
    "        \n",
    "    while (i < mid):\n",
    "        arr[k] = L[i]\n",
    "        i += 1\n",
    "        k += 1\n",
    "    while (j < len(R)):\n",
    "        arr[k] = R[j]\n",
    "        j += 1\n",
    "        k += 1\n",
    "        \n",
    "    return(arr)\n",
    "\n",
    "\n",
    "def countSplitInversion(arr):\n",
    "    inversions = []\n",
    "    mergeSortWithTrace(arr, inversions)\n",
    "    return inversions, len(inversions)"
   ]
  },
  {
   "cell_type": "code",
   "execution_count": 20,
   "metadata": {},
   "outputs": [
    {
     "data": {
      "text/plain": [
       "([(2, 1), (3, 1), (3, 2), (7, 5), (7, 6)], 5)"
      ]
     },
     "execution_count": 20,
     "metadata": {},
     "output_type": "execute_result"
    }
   ],
   "source": [
    "countSplitInversion([3, 2, 1, 7, 5, 6])"
   ]
  }
 ],
 "metadata": {
  "interpreter": {
   "hash": "949510482b8eeb0db0de64008f8e13a21a90dd06afd7a8e21dd837eed22f74f3"
  },
  "kernelspec": {
   "display_name": "Python 3.8.8 64-bit ('base': conda)",
   "language": "python",
   "name": "python3"
  },
  "language_info": {
   "codemirror_mode": {
    "name": "ipython",
    "version": 3
   },
   "file_extension": ".py",
   "mimetype": "text/x-python",
   "name": "python",
   "nbconvert_exporter": "python",
   "pygments_lexer": "ipython3",
   "version": "3.8.8"
  },
  "orig_nbformat": 4
 },
 "nbformat": 4,
 "nbformat_minor": 2
}
