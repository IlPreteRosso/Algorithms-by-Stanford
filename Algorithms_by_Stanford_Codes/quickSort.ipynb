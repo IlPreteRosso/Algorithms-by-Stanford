{
 "cells": [
  {
   "cell_type": "code",
   "execution_count": 29,
   "metadata": {},
   "outputs": [],
   "source": [
    "# Internal sort cuz partitioning by pivot follows \n",
    "# the nature of the array to be sorted\n",
    "# i.e. sort before split\n",
    "def quickSort(arr):\n",
    "    piv = 0\n",
    "    if (len(arr) <= 1):\n",
    "        return(arr)\n",
    "    for curr in range(1, len(arr)):\n",
    "        if (arr[curr] < arr[piv]):\n",
    "            arr[curr], arr[piv+1] = arr[piv+1], arr[curr]\n",
    "            arr[piv], arr[piv+1] = arr[piv+1], arr[piv]\n",
    "            piv += 1\n",
    "    return(quickSort(arr[0:piv]) + [arr[piv]] + quickSort(arr[piv+1:]))"
   ]
  }
 ],
 "metadata": {
  "interpreter": {
   "hash": "949510482b8eeb0db0de64008f8e13a21a90dd06afd7a8e21dd837eed22f74f3"
  },
  "kernelspec": {
   "display_name": "Python 3.8.8 64-bit ('base': conda)",
   "language": "python",
   "name": "python3"
  },
  "language_info": {
   "codemirror_mode": {
    "name": "ipython",
    "version": 3
   },
   "file_extension": ".py",
   "mimetype": "text/x-python",
   "name": "python",
   "nbconvert_exporter": "python",
   "pygments_lexer": "ipython3",
   "version": "3.8.8"
  },
  "orig_nbformat": 4
 },
 "nbformat": 4,
 "nbformat_minor": 2
}
