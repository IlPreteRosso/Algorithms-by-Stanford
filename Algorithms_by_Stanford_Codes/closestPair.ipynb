{
 "cells": [
  {
   "cell_type": "code",
   "execution_count": 1,
   "metadata": {},
   "outputs": [],
   "source": [
    "import numpy as np\n",
    "import math"
   ]
  },
  {
   "cell_type": "code",
   "execution_count": 14,
   "metadata": {},
   "outputs": [],
   "source": [
    "def euclidean(p1, p2):\n",
    "    return ((p1[0]-p2[0])**2 + (p1[1] - p2[1])**2)**0.5\n",
    "\n",
    "def bruteForce(P, n):\n",
    "    min_val = euclidean(P[0], P[1])\n",
    "    P0, P1 = P[0], P[1]\n",
    "    for i in range(n):\n",
    "        for j in range(i + 1, n):\n",
    "            if euclidean(P[i], P[j]) < min_val:\n",
    "                min_val = euclidean(P[i], P[j])\n",
    "                P0, P1 = P[i], P[j]\n",
    "    return P0, P1\n",
    "\n",
    "def RCP(Px, Py):\n",
    "    L = len(Px)\n",
    "    if L < 4:   # no line after partitioning\n",
    "        return bruteForce(Px, len(Px))\n",
    "    \n",
    "    Lx = Px[0:L//2]\n",
    "    Rx = Px[L//2:]\n",
    "\n",
    "    m = (Lx[0][0] + Rx[-1][0])/2\n",
    "    \n",
    "    Ly = sorted(Lx, key = lambda x: x[1])\n",
    "    Ry = sorted(Rx, key = lambda x: x[1])\n",
    "    \n",
    "    pL, qL = RCP(Lx, Ly)\n",
    "    pR, qR = RCP(Rx, Ry)\n",
    "    \n",
    "    delta = min([euclidean(pL, qL), euclidean(pR, qR)])\n",
    "    \n",
    "    #     ↑selecting candidates for closest pair↑      #\n",
    "    #==================================================#\n",
    "    #    ↓partition around m by delta and optimize↓    #\n",
    "    \n",
    "    if euclidean(pL, qL) - delta < 1e-6:\n",
    "        pNew, qNew = pL, qL\n",
    "    else:\n",
    "        pNew, qNew = pR, qR\n",
    "    \n",
    "    condition = [i for i in (np.array(Py)[:, 0] >= m - delta) & (np.array(Py)[:, 0] <= m + delta)]\n",
    "    B = [i for i, c in zip(Py, condition) if c == True]\n",
    "    \n",
    "    for p_index in range(0, len(B)):\n",
    "        i = 0\n",
    "        for q_index in range(p_index + 1, len(B)):\n",
    "            i += 1\n",
    "            if i > 6:\n",
    "                break\n",
    "            if euclidean(B[p_index], B[q_index]) < delta:\n",
    "                pNew, qNew = B[p_index], B[q_index]\n",
    "                \n",
    "    return pNew, qNew\n",
    "    \n",
    "    \n",
    "def closestPair(arr):\n",
    "    \n",
    "    piv = np.array(arr[:][0]).mean()\n",
    "    Px = sorted(arr, key = lambda x: x[0])\n",
    "    Py = sorted(arr, key = lambda x: x[1])\n",
    "    return RCP(Px, Py), euclidean(RCP(Px, Py)[0], RCP(Px, Py)[1])\n",
    "    \n",
    "    \n",
    "\n",
    "    "
   ]
  },
  {
   "cell_type": "code",
   "execution_count": 15,
   "metadata": {},
   "outputs": [
    {
     "data": {
      "text/plain": [
       "(((-0.2010671992676117, 0.14479898542213243),\n",
       "  (0.02860141875771943, 0.05368577533569538)),\n",
       " 0.2470815475868659)"
      ]
     },
     "execution_count": 15,
     "metadata": {},
     "output_type": "execute_result"
    }
   ],
   "source": [
    "closestPair([(i, j) for i, j in zip(np.random.randn(10), np.random.randn(10))])"
   ]
  },
  {
   "cell_type": "code",
   "execution_count": null,
   "metadata": {},
   "outputs": [],
   "source": []
  }
 ],
 "metadata": {
  "interpreter": {
   "hash": "098a54a4cecd56946e77a7b5b29fc026a7f582aea2a2870f7c15ee99869650c5"
  },
  "kernelspec": {
   "display_name": "Python 3.9.7 64-bit ('base': conda)",
   "language": "python",
   "name": "python3"
  },
  "language_info": {
   "codemirror_mode": {
    "name": "ipython",
    "version": 3
   },
   "file_extension": ".py",
   "mimetype": "text/x-python",
   "name": "python",
   "nbconvert_exporter": "python",
   "pygments_lexer": "ipython3",
   "version": "3.9.7"
  },
  "orig_nbformat": 4
 },
 "nbformat": 4,
 "nbformat_minor": 2
}
