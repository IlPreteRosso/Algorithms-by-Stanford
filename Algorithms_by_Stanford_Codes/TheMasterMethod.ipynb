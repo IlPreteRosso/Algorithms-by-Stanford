{
 "cells": [
  {
   "cell_type": "markdown",
   "metadata": {},
   "source": [
    "Running time by the master method\n",
    "> $T(n) = aT(\\frac{n}{b}) + f(n)$, $a \\geq 0$ and $b > 0$, where \n",
    " \n",
    "$n$ = size of input  \n",
    "$a$ = number of subproblems  \n",
    "$\\frac{n}{b}$ = size of each subproblems (with same sizes)  \n",
    "$f(n)$ = cost of the work done outside the recursive call, which includes the cost of dividing the problem and cost of merging the solutions. Futher more, $f(n) = O(n^d)$"
   ]
  },
  {
   "cell_type": "markdown",
   "metadata": {},
   "source": [
    "The indicator of time complexity is I = $\\frac{a}{b^d}$\n",
    "\n",
    ">$O(n^d)$           if $I < 1$  \n",
    ">$O(n^{d}logn)$     if $I = 1$  \n",
    ">$O(n^{log_{b}a})$  if $I > 1$"
   ]
  },
  {
   "cell_type": "markdown",
   "metadata": {},
   "source": [
    "Explaination: The total number of works can be discribed with  \n",
    ">$O(n^d\\Sigma_{j=0}^{log_bn}(\\frac{a}{b^d})^j)$  \n"
   ]
  },
  {
   "cell_type": "markdown",
   "metadata": {},
   "source": [
    "First of all, the work done in the jth level is no more than  \n",
    "> ##### {numbers of subprobs} $\\times$ $c${size of suprobs}$^d$  \n",
    "where $c$ is a constant, i.e.  \n",
    "> $a^jc(\\frac{n}{b^j})^d = cn^d(\\frac{a}{b^d})^j$  \n",
    "\n",
    "Notice that j = {0, 1, $\\dots$, $log_bn$}, summing it on j gives  \n",
    "> $cn^d\\Sigma_{j=0}^{log_bn}(\\frac{a}{b^d})^j$  "
   ]
  },
  {
   "cell_type": "markdown",
   "metadata": {},
   "source": [
    "Interpretation: The Good and the Evil  \n",
    "> $a$ = rate of the number of subprobs proliferates  \n",
    "> $b^d$ = rate of size of subprobs shrink  \n",
    "\n",
    "If $a$ < $b^d$, then the number of work is decreasing with the recursion level j.  \n",
    "Resulting in $O(n^d)$  \n",
    "If $a$ = $b^d$, then the number of work is fixed with the recursion level j.  \n",
    "Resulting in $O(n^dlogn)$ (ex. mergeSort)  \n",
    "If $a$ > $b^d$, then the number of work is increasing with the recursion level j  \n",
    "Resulting in $O(n^{log_ba}) (=O(a^{log_bn}))$ (ex. determinant of matrix)    \n"
   ]
  },
  {
   "cell_type": "markdown",
   "metadata": {},
   "source": [
    "##### Now the three cases can be attributed to geometric sum  \n",
    "Notice that in case 3, $a^{log_bn}$ is the total amount of leaves in the recursion tree"
   ]
  }
 ],
 "metadata": {
  "language_info": {
   "name": "python"
  },
  "orig_nbformat": 4
 },
 "nbformat": 4,
 "nbformat_minor": 2
}
